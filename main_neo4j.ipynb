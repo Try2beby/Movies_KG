{
 "cells": [
  {
   "cell_type": "code",
   "execution_count": 1,
   "metadata": {},
   "outputs": [],
   "source": [
    "import importlib\n",
    "import movies\n",
    "import data_describe\n",
    "import os\n",
    "\n",
    "importlib.reload(movies)\n",
    "\n",
    "MoviesKG = movies.MoviesKG\n",
    "DataDescribe = data_describe.DataDescribe\n",
    "\n",
    "\n",
    "import matplotlib.pyplot as plt\n",
    "%matplotlib inline\n",
    "from matplotlib_inline import backend_inline\n",
    "backend_inline.set_matplotlib_formats(\"svg\")"
   ]
  },
  {
   "cell_type": "code",
   "execution_count": 2,
   "metadata": {},
   "outputs": [
    {
     "data": {
      "text/plain": [
       "[{'label': 'Movie', 'node_count': 1967},\n",
       " {'label': 'Genre', 'node_count': 19},\n",
       " {'label': 'ProductionCompany', 'node_count': 2611},\n",
       " {'label': 'Country', 'node_count': 54},\n",
       " {'label': 'Person', 'node_count': 17540}]"
      ]
     },
     "execution_count": 2,
     "metadata": {},
     "output_type": "execute_result"
    }
   ],
   "source": [
    "# # 创建实例并保存数据到JSON文件\n",
    "# movies_kg = MoviesKG(download=True)\n",
    "# movies_kg.save_to_json()\n",
    "\n",
    "movies_kg = MoviesKG()\n",
    "# movies_kg.clear_database()\n",
    "movies_kg.filter_data()\n",
    "# movies_kg.build_graph()\n",
    "movies_kg.get_node_counts_by_label()"
   ]
  },
  {
   "cell_type": "code",
   "execution_count": 22,
   "metadata": {},
   "outputs": [
    {
     "data": {
      "text/plain": [
       "{'movie': {'belongs_to_collection': 'Inside Out Collection',\n",
       "  'budget': 200000000,\n",
       "  'id': 1022789,\n",
       "  'overview': \"Teenager Riley's mind headquarters is undergoing a sudden demolition to make room for something entirely unexpected: new Emotions! Joy, Sadness, Anger, Fear and Disgust, who’ve long been running a successful operation by all accounts, aren’t sure how to feel when Anxiety shows up. And it looks like she’s not alone.\",\n",
       "  'release_date': '2024-06-11',\n",
       "  'revenue': 110800000,\n",
       "  'runtime': 97,\n",
       "  'tagline': 'Make room for new emotions.',\n",
       "  'title': 'Inside Out 2'},\n",
       " 'genres': ['Animation', 'Family', 'Drama', 'Adventure', 'Comedy'],\n",
       " 'production_companies': [{'id': 3, 'name': 'Pixar', 'origin_country': 'US'},\n",
       "  {'id': 2, 'name': 'Walt Disney Pictures', 'origin_country': 'US'}],\n",
       " 'crew': [{'id': 182001, 'name': 'Kelsey Mann', 'job': 'Director'},\n",
       "  {'id': 8103, 'name': 'Mark Nielsen', 'job': 'Producer'},\n",
       "  {'id': 12890, 'name': 'Pete Docter', 'job': 'Executive Producer'},\n",
       "  {'id': 7940, 'name': 'Jonas Rivera', 'job': 'Executive Producer'},\n",
       "  {'id': 225976, 'name': 'Dan Scanlon', 'job': 'Executive Producer'}],\n",
       " 'cast': [{'id': 56322,\n",
       "   'name': 'Amy Poehler',\n",
       "   'character': 'Joy (voice)',\n",
       "   'gender': 1},\n",
       "  {'id': 1903874,\n",
       "   'name': 'Maya Hawke',\n",
       "   'character': 'Anxiety (voice)',\n",
       "   'gender': 1},\n",
       "  {'id': 3020876,\n",
       "   'name': 'Kensington Tallman',\n",
       "   'character': 'Riley (voice)',\n",
       "   'gender': 1},\n",
       "  {'id': 51998,\n",
       "   'name': 'Liza Lapira',\n",
       "   'character': 'Disgust (voice)',\n",
       "   'gender': 1},\n",
       "  {'id': 169200,\n",
       "   'name': 'Phyllis Smith',\n",
       "   'character': 'Sadness (voice)',\n",
       "   'gender': 1},\n",
       "  {'id': 59258,\n",
       "   'name': 'Lewis Black',\n",
       "   'character': 'Anger (voice)',\n",
       "   'gender': 2},\n",
       "  {'id': 25147, 'name': 'Tony Hale', 'character': 'Fear (voice)', 'gender': 2},\n",
       "  {'id': 2195140,\n",
       "   'name': 'Ayo Edebiri',\n",
       "   'character': 'Envy (voice)',\n",
       "   'gender': 1},\n",
       "  {'id': 586757,\n",
       "   'name': 'Adèle Exarchopoulos',\n",
       "   'character': 'Ennui (voice)',\n",
       "   'gender': 1},\n",
       "  {'id': 1469135,\n",
       "   'name': 'Lilimar',\n",
       "   'character': 'Valentina (voice)',\n",
       "   'gender': 1}],\n",
       " 'origin_country': ['US']}"
      ]
     },
     "execution_count": 22,
     "metadata": {},
     "output_type": "execute_result"
    }
   ],
   "source": [
    "movies_kg.filtered_data[0]"
   ]
  },
  {
   "cell_type": "code",
   "execution_count": 11,
   "metadata": {},
   "outputs": [],
   "source": [
    "from langchain_community.chat_models import ChatZhipuAI\n",
    "from langchain.chains import GraphCypherQAChain\n",
    "from langchain_community.graphs import Neo4jGraph\n",
    "\n",
    "llm = ChatZhipuAI(\n",
    "    temperature=0,\n",
    "    zhipuai_api_key=os.getenv(\"ZHIPUAI_API_KEY\"),\n",
    "    model_name=\"GLM-4-0520\",\n",
    "    # model_name=\"GLM-4-Flash\",\n",
    ")\n",
    "graph = Neo4jGraph(\n",
    "    url=\"bolt://localhost:7687\", username=\"neo4j\", password=os.getenv(\"NEO4J_PASSWORD\")\n",
    ")\n",
    "chain = GraphCypherQAChain.from_llm(llm, graph=graph, verbose=True)\n",
    "\n",
    "\n",
    "def get_answer(question, choice=\"\"):\n",
    "    if choice:\n",
    "        return chain.invoke(choice)[\"result\"]\n",
    "    return chain.invoke(question)[\"result\"]"
   ]
  },
  {
   "cell_type": "code",
   "execution_count": 34,
   "metadata": {},
   "outputs": [
    {
     "name": "stdout",
     "output_type": "stream",
     "text": [
      "Node properties:\n",
      "Movie {budget: INTEGER, id: INTEGER, title: STRING, tagline: STRING, belongs_to_collection: STRING, runtime: INTEGER, overview: STRING, revenue: INTEGER, release_date: STRING}\n",
      "Genre {name: STRING}\n",
      "ProductionCompany {origin_country: STRING, name: STRING, id: INTEGER}\n",
      "Country {name: STRING}\n",
      "Person {name: STRING, id: INTEGER, gender: INTEGER}\n",
      "Relationship properties:\n",
      "ACTED_IN {character: STRING}\n",
      "The relationships:\n",
      "(:Movie)-[:BELONGS_TO_GENRE]->(:Genre)\n",
      "(:Movie)-[:PRODUCED_BY]->(:ProductionCompany)\n",
      "(:Movie)-[:ORIGIN_COUNTRY]->(:Country)\n",
      "(:Person)-[:ACTED_IN]->(:Movie)\n",
      "(:Person)-[:EXECUTIVE_PRODUCER]->(:Movie)\n",
      "(:Person)-[:DIRECTOR]->(:Movie)\n",
      "(:Person)-[:PRODUCER]->(:Movie)\n"
     ]
    }
   ],
   "source": [
    "print(graph.get_schema)"
   ]
  },
  {
   "cell_type": "code",
   "execution_count": 29,
   "metadata": {},
   "outputs": [
    {
     "name": "stdout",
     "output_type": "stream",
     "text": [
      "\n",
      "\n",
      "\u001b[1m> Entering new GraphCypherQAChain chain...\u001b[0m\n",
      "Generated Cypher:\n",
      "\u001b[32;1m\u001b[1;3mMATCH (p1:Person {name: 'Michael Caine'})-[:ACTED_IN]->(m)<-[:ACTED_IN]-(p2:Person {name: 'Maggie Gyllenhaal'})\n",
      "RETURN m.title\u001b[0m\n",
      "Full Context:\n",
      "\u001b[32;1m\u001b[1;3m[{'m.title': 'The Dark Knight'}]\u001b[0m\n",
      "\n",
      "\u001b[1m> Finished chain.\u001b[0m\n",
      "Michael Caine and Maggie Gyllenhaal have co-starred in \"The Dark Knight.\"\n"
     ]
    }
   ],
   "source": [
    "from enum import Enum\n",
    "\n",
    "\n",
    "class QUESTION(str, Enum):\n",
    "    # 简单单跳问题\n",
    "    Q11 = \"Who starred in 'The Dark Knight'?\"\n",
    "    Q12 = \"Who directed 'The Dark Knight'?\"\n",
    "    Q13 = \"Which movies did Christopher Nolan direct?\"\n",
    "\n",
    "    # 添加筛选条件\n",
    "    Q21 = (\n",
    "        \"Besides 'The Dark Knight', which other movies has Christopher Nolan directed?\"\n",
    "    )\n",
    "    Q22 = \"In which movies have Michael Caine and Maggie Gyllenhaal co-starred?\"\n",
    "    # Q5 = \"What other films has the director of 'The Dark Knight' directed?\"\n",
    "\n",
    "\n",
    "default_questions = [question.value for question in QUESTION]\n",
    "\n",
    "print(get_answer(QUESTION.Q22.value))"
   ]
  },
  {
   "cell_type": "code",
   "execution_count": null,
   "metadata": {},
   "outputs": [],
   "source": [
    "import gradio as gr\n",
    "\n",
    "# Corrected Gradio interface setup\n",
    "iface = gr.Interface(\n",
    "    fn=get_answer,\n",
    "    inputs=[\n",
    "        gr.Dropdown(\n",
    "            choices=default_questions,\n",
    "            label=\"Select a question\",\n",
    "            value=default_questions[0],\n",
    "        ),  # 默认选择第一个问题\n",
    "        gr.Textbox(lines=2, label=\"Or enter your question here...\"),\n",
    "    ],\n",
    "    outputs=gr.Textbox(lines=10, label=\"Output\"),  # 增加输出行数\n",
    "    title=\"GraphCypher QA System\",\n",
    "    description=\"Ask any question related to the movie database.\",\n",
    ")\n",
    "\n",
    "\n",
    "# Launch the Gradio app\n",
    "iface.launch(share=True)"
   ]
  },
  {
   "cell_type": "code",
   "execution_count": 14,
   "metadata": {},
   "outputs": [
    {
     "name": "stdout",
     "output_type": "stream",
     "text": [
      "Node properties are the following:\n",
      "Movie {budget: INTEGER, id: INTEGER, title: STRING, tagline: STRING, belongs_to_collection: STRING, runtime: INTEGER, overview: STRING, revenue: INTEGER, release_date: STRING},Genre {name: STRING},ProductionCompany {origin_country: STRING, name: STRING, id: INTEGER},Country {name: STRING},Person {name: STRING, id: INTEGER, gender: INTEGER}\n",
      "Relationship properties are the following:\n",
      "ACTED_IN {character: STRING}\n",
      "The relationships are the following:\n",
      "(:Movie)-[:BELONGS_TO_GENRE]->(:Genre),(:Movie)-[:PRODUCED_BY]->(:ProductionCompany),(:Movie)-[:ORIGIN_COUNTRY]->(:Country),(:Person)-[:ACTED_IN]->(:Movie),(:Person)-[:EXECUTIVE_PRODUCER]->(:Movie),(:Person)-[:DIRECTOR]->(:Movie),(:Person)-[:PRODUCER]->(:Movie)\n"
     ]
    }
   ],
   "source": [
    "from langchain_community.chains.graph_qa.cypher import construct_schema\n",
    "\n",
    "schema = construct_schema(graph.get_structured_schema, [], [])\n",
    "print(schema)"
   ]
  }
 ],
 "metadata": {
  "kernelspec": {
   "display_name": "base",
   "language": "python",
   "name": "python3"
  },
  "language_info": {
   "codemirror_mode": {
    "name": "ipython",
    "version": 3
   },
   "file_extension": ".py",
   "mimetype": "text/x-python",
   "name": "python",
   "nbconvert_exporter": "python",
   "pygments_lexer": "ipython3",
   "version": "3.11.5"
  }
 },
 "nbformat": 4,
 "nbformat_minor": 2
}
