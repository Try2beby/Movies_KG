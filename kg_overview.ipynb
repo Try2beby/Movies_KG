{
 "cells": [
  {
   "cell_type": "code",
   "execution_count": 1,
   "metadata": {},
   "outputs": [],
   "source": [
    "import importlib\n",
    "import movies\n",
    "import data_describe\n",
    "import os\n",
    "\n",
    "importlib.reload(movies)\n",
    "\n",
    "MoviesKG = movies.MoviesKG\n",
    "DataDescribe = data_describe.DataDescribe\n",
    "\n",
    "\n",
    "import matplotlib.pyplot as plt\n",
    "%matplotlib inline\n",
    "from matplotlib_inline import backend_inline\n",
    "backend_inline.set_matplotlib_formats(\"svg\")"
   ]
  },
  {
   "cell_type": "code",
   "execution_count": 2,
   "metadata": {},
   "outputs": [],
   "source": [
    "movies_kg = MoviesKG()"
   ]
  },
  {
   "cell_type": "code",
   "execution_count": 3,
   "metadata": {},
   "outputs": [],
   "source": [
    "from yfiles_jupyter_graphs import GraphWidget\n",
    "from neo4j import GraphDatabase"
   ]
  },
  {
   "cell_type": "code",
   "execution_count": null,
   "metadata": {},
   "outputs": [],
   "source": [
    "def showGraph(\n",
    "    default_cypher: str = \"MATCH (s)-[r]->(t) RETURN s, r, t LIMIT 22\",\n",
    "):\n",
    "    print(default_cypher)\n",
    "    driver = GraphDatabase.driver(\n",
    "        uri=\"bolt://localhost:7687\",\n",
    "        auth=(\"neo4j\", os.environ[\"NEO4J_PASSWORD\"]),\n",
    "    )\n",
    "    # create a neo4j session to run queries\n",
    "    session = driver.session()\n",
    "    widget = GraphWidget(graph=session.run(default_cypher).graph())\n",
    "    widget.node_label_mapping = \"id\"\n",
    "    # display(widget)\n",
    "    return widget\n",
    "\n",
    "\n",
    "showGraph()"
   ]
  }
 ],
 "metadata": {
  "kernelspec": {
   "display_name": "llama",
   "language": "python",
   "name": "python3"
  },
  "language_info": {
   "codemirror_mode": {
    "name": "ipython",
    "version": 3
   },
   "file_extension": ".py",
   "mimetype": "text/x-python",
   "name": "python",
   "nbconvert_exporter": "python",
   "pygments_lexer": "ipython3",
   "version": "3.10.14"
  }
 },
 "nbformat": 4,
 "nbformat_minor": 2
}
