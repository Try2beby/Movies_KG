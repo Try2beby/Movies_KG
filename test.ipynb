{
 "cells": [
  {
   "cell_type": "code",
   "execution_count": 1,
   "metadata": {},
   "outputs": [],
   "source": [
    "from langchain_community.vectorstores.neo4j_vector import remove_lucene_chars"
   ]
  },
  {
   "cell_type": "code",
   "execution_count": 2,
   "metadata": {},
   "outputs": [],
   "source": [
    "def generate_full_text_query(input: str) -> str:\n",
    "    \"\"\"\n",
    "    Generate a full-text search query for a given input string in Neo4j.\n",
    "\n",
    "    This function constructs a query string suitable for a full-text search.\n",
    "    It processes the input string by splitting it into words and appending a\n",
    "    similarity threshold (~2 changed characters) to each word, then combines\n",
    "    them using the AND operator.\n",
    "    \"\"\"\n",
    "    full_text_query = \"\"\n",
    "    words = [el for el in remove_lucene_chars(input).split() if el]\n",
    "    for word in words[:-1]:\n",
    "        full_text_query += f\" {word}~2 AND\"\n",
    "    full_text_query += f\" {words[-1]}~2\"\n",
    "    return full_text_query.strip()\n",
    "\n",
    "\n",
    "# Example usage in a Cypher query\n",
    "input_name1 = \"Michael Caine\"\n",
    "input_name2 = \"Maggie Gyllenhaal\"\n",
    "\n",
    "query_name1 = generate_full_text_query(input_name1)\n",
    "query_name2 = generate_full_text_query(input_name2)"
   ]
  },
  {
   "cell_type": "code",
   "execution_count": 2,
   "metadata": {},
   "outputs": [
    {
     "data": {
      "text/html": [
       "(No data)"
      ],
      "text/plain": [
       "(No data)"
      ]
     },
     "execution_count": 2,
     "metadata": {},
     "output_type": "execute_result"
    }
   ],
   "source": [
    "from movies import MoviesKG\n",
    "\n",
    "movies_kg = MoviesKG()\n",
    "movies_kg.graph.run(\n",
    "    \"\"\"MATCH (u:User)-[:LOVED]->(:Movie)<-[:DIRECTED]-(d:Director) \n",
    "    WHERE apoc.text.levenshteinSimilarity(d.name, 'Christopher Nolan') >= 0.9 \n",
    "    RETURN u.location\"\"\"\n",
    ")"
   ]
  },
  {
   "cell_type": "code",
   "execution_count": null,
   "metadata": {},
   "outputs": [],
   "source": [
    "movies_kg.graph.run(\n",
    "    \"\"\"cypher MATCH (m:Movie)\n",
    "        WHERE apoc.text.levenshteinSimilarity(m.title, 'The Dark Knight') >= 0.8\n",
    "        MATCH (m)<-[:DIRECTOR]-(p:Person)-[:DIRECTOR]->(otherMovies:Movie)\n",
    "        RETURN otherMovies.title\"\"\"\n",
    ")"
   ]
  },
  {
   "cell_type": "code",
   "execution_count": 6,
   "metadata": {},
   "outputs": [
    {
     "data": {
      "text/html": [
       "<table><tr><th>otherMovies.title</th></tr><tr><td style=\"text-align:left\">Memento</td></tr><tr><td style=\"text-align:left\">Dunkirk</td></tr><tr><td style=\"text-align:left\">The Prestige</td></tr></table>"
      ],
      "text/plain": [
       " otherMovies.title \n",
       "-------------------\n",
       " Memento           \n",
       " Dunkirk           \n",
       " The Prestige      "
      ]
     },
     "execution_count": 6,
     "metadata": {},
     "output_type": "execute_result"
    }
   ],
   "source": [
    "movies_kg.graph.run(\n",
    "    \"MATCH (m:Movie {title: 'The Dark Knight'})<-[:DIRECTOR]-(p:Person)-[:DIRECTOR]->(otherMovies:Movie) RETURN otherMovies.title\"\n",
    ")"
   ]
  },
  {
   "cell_type": "code",
   "execution_count": 41,
   "metadata": {},
   "outputs": [],
   "source": [
    "res = movies_kg.graph.run(\n",
    "    \"\"\"\n",
    "    MATCH (p:User)\n",
    "WHERE p.name =~ 'User .*'\n",
    "DETACH DELETE p\n",
    "    \"\"\"\n",
    ")"
   ]
  },
  {
   "cell_type": "code",
   "execution_count": 14,
   "metadata": {},
   "outputs": [
    {
     "data": {
      "text/html": [
       "<table><tr><th>m.title</th></tr><tr><td style=\"text-align:left\">Inside Out 2</td></tr><tr><td style=\"text-align:left\">Inside Out</td></tr></table>"
      ],
      "text/plain": [
       " m.title      \n",
       "--------------\n",
       " Inside Out 2 \n",
       " Inside Out   "
      ]
     },
     "execution_count": 14,
     "metadata": {},
     "output_type": "execute_result"
    }
   ],
   "source": [
    "movies_kg.graph.run(\n",
    "    \"MATCH (m:Movie) WHERE apoc.text.levenshteinSimilarity(m.title, 'Inside Out 2') >= 0.8 RETURN m.title;\"\n",
    ")"
   ]
  },
  {
   "cell_type": "code",
   "execution_count": 16,
   "metadata": {},
   "outputs": [
    {
     "data": {
      "text/html": [
       "<table><tr><th>m.title</th></tr><tr><td style=\"text-align:left\">Kingdom of the Planet of the Apes</td></tr><tr><td style=\"text-align:left\">Rise of the Planet of the Apes</td></tr></table>"
      ],
      "text/plain": [
       " m.title                           \n",
       "-----------------------------------\n",
       " Kingdom of the Planet of the Apes \n",
       " Rise of the Planet of the Apes    "
      ]
     },
     "execution_count": 16,
     "metadata": {},
     "output_type": "execute_result"
    }
   ],
   "source": [
    "movies_kg.graph.run(\n",
    "    \"MATCH (m:Movie) WHERE apoc.text.levenshteinSimilarity(m.title, 'Kingdom of the Planet of the Apes') >= 0.8 RETURN m.title;\"\n",
    ")"
   ]
  },
  {
   "cell_type": "code",
   "execution_count": 15,
   "metadata": {},
   "outputs": [
    {
     "data": {
      "text/plain": [
       "{'movie': {'belongs_to_collection': 'Planet of the Apes (Reboot) Collection',\n",
       "  'budget': 160000000,\n",
       "  'id': 653346,\n",
       "  'overview': \"Several generations in the future following Caesar's reign, apes are now the dominant species and live harmoniously while humans have been reduced to living in the shadows. As a new tyrannical ape leader builds his empire, one young ape undertakes a harrowing journey that will cause him to question all that he has known about the past and to make choices that will define a future for apes and humans alike.\",\n",
       "  'release_date': '2024-05-08',\n",
       "  'revenue': 359772773,\n",
       "  'runtime': 145,\n",
       "  'tagline': 'No one can stop the reign.',\n",
       "  'title': 'Kingdom of the Planet of the Apes'},\n",
       " 'genres': ['Science Fiction', 'Adventure', 'Action'],\n",
       " 'production_companies': [{'id': 127928,\n",
       "   'name': '20th Century Studios',\n",
       "   'origin_country': 'US'},\n",
       "  {'id': 133024, 'name': 'Oddball Entertainment', 'origin_country': 'US'},\n",
       "  {'id': 89254, 'name': 'Jason T. Reed Productions', 'origin_country': 'US'}],\n",
       " 'crew': [{'id': 1179066, 'name': 'Wes Ball', 'job': 'Director'},\n",
       "  {'id': 91161, 'name': 'Joe Hartwick Jr.', 'job': 'Producer'},\n",
       "  {'id': 266920, 'name': 'Peter Chernin', 'job': 'Executive Producer'},\n",
       "  {'id': 67802, 'name': 'Rick Jaffa', 'job': 'Producer'},\n",
       "  {'id': 67803, 'name': 'Amanda Silver', 'job': 'Producer'},\n",
       "  {'id': 100186, 'name': 'Jason Reed', 'job': 'Producer'},\n",
       "  {'id': 36427, 'name': 'Jenno Topping', 'job': 'Executive Producer'},\n",
       "  {'id': 1179066, 'name': 'Wes Ball', 'job': 'Producer'}],\n",
       " 'cast': [{'id': 1586047,\n",
       "   'name': 'Owen Teague',\n",
       "   'character': 'Noa',\n",
       "   'gender': 2},\n",
       "  {'id': 2146942,\n",
       "   'name': 'Freya Allan',\n",
       "   'character': 'Nova / Mae',\n",
       "   'gender': 1},\n",
       "  {'id': 79072,\n",
       "   'name': 'Kevin Durand',\n",
       "   'character': 'Proximus Caesar',\n",
       "   'gender': 2},\n",
       "  {'id': 1444816, 'name': 'Peter Macon', 'character': 'Raka', 'gender': 2},\n",
       "  {'id': 3905,\n",
       "   'name': 'William H. Macy',\n",
       "   'character': 'Trevathan',\n",
       "   'gender': 2},\n",
       "  {'id': 966554, 'name': 'Eka Darville', 'character': 'Sylva', 'gender': 2},\n",
       "  {'id': 1394427, 'name': 'Travis Jeffery', 'character': 'Anaya', 'gender': 2},\n",
       "  {'id': 2435321, 'name': 'Lydia Peckham', 'character': 'Soona', 'gender': 1},\n",
       "  {'id': 136295, 'name': 'Neil Sandilands', 'character': 'Koro', 'gender': 2},\n",
       "  {'id': 3757983,\n",
       "   'name': \"Ras-Samuel Welda'abzgi\",\n",
       "   'character': 'Lightning',\n",
       "   'gender': 2}],\n",
       " 'origin_country': ['US']}"
      ]
     },
     "execution_count": 15,
     "metadata": {},
     "output_type": "execute_result"
    }
   ],
   "source": [
    "# movies_kg.clear_database()\n",
    "movies_kg.filter_data()\n",
    "# movies_kg.build_graph()\n",
    "movies_kg.filtered_data[1]"
   ]
  }
 ],
 "metadata": {
  "kernelspec": {
   "display_name": "base",
   "language": "python",
   "name": "python3"
  },
  "language_info": {
   "codemirror_mode": {
    "name": "ipython",
    "version": 3
   },
   "file_extension": ".py",
   "mimetype": "text/x-python",
   "name": "python",
   "nbconvert_exporter": "python",
   "pygments_lexer": "ipython3",
   "version": "3.11.5"
  }
 },
 "nbformat": 4,
 "nbformat_minor": 2
}
