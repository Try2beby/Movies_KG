{
 "cells": [
  {
   "cell_type": "code",
   "execution_count": 1,
   "metadata": {},
   "outputs": [],
   "source": [
    "import importlib\n",
    "import movies\n",
    "import data_describe\n",
    "import os\n",
    "\n",
    "importlib.reload(movies)\n",
    "\n",
    "MoviesKG = movies.MoviesKG\n",
    "DataDescribe = data_describe.DataDescribe\n",
    "\n",
    "\n",
    "import matplotlib.pyplot as plt\n",
    "%matplotlib inline\n",
    "from matplotlib_inline import backend_inline\n",
    "backend_inline.set_matplotlib_formats(\"svg\")"
   ]
  },
  {
   "cell_type": "code",
   "execution_count": 2,
   "metadata": {},
   "outputs": [],
   "source": [
    "movies_kg = MoviesKG()"
   ]
  },
  {
   "cell_type": "code",
   "execution_count": 3,
   "metadata": {},
   "outputs": [],
   "source": [
    "from yfiles_jupyter_graphs import GraphWidget\n",
    "from neo4j import GraphDatabase"
   ]
  },
  {
   "cell_type": "code",
   "execution_count": 10,
   "metadata": {},
   "outputs": [
    {
     "name": "stderr",
     "output_type": "stream",
     "text": [
      "Received notification from DBMS server: {severity: WARNING} {code: Neo.ClientNotification.Statement.UnknownRelationshipTypeWarning} {category: UNRECOGNIZED} {title: The provided relationship type is not in the database.} {description: One of the relationship types in your query is not available in the database, make sure you didn't misspell it or that the label is available when you run this statement in your application (the missing relationship type is: MENTIONS)} {position: line: 1, column: 15, offset: 14} for query: 'MATCH (s)-[r:!MENTIONS]->(t) RETURN s,r,t LIMIT 50'\n"
     ]
    },
    {
     "name": "stdout",
     "output_type": "stream",
     "text": [
      "MATCH (s)-[r:!MENTIONS]->(t) RETURN s,r,t LIMIT 50\n"
     ]
    },
    {
     "data": {
      "application/vnd.jupyter.widget-view+json": {
       "model_id": "d08a7b0a63bc4d28b1eaf418da7bdd6d",
       "version_major": 2,
       "version_minor": 0
      },
      "text/plain": [
       "GraphWidget(layout=Layout(height='800px', width='100%'))"
      ]
     },
     "metadata": {},
     "output_type": "display_data"
    }
   ],
   "source": [
    "def showGraph(\n",
    "    default_cypher: str = \"MATCH (s)-[r:!MENTIONS]->(t) RETURN s,r,t LIMIT 50\",\n",
    "):\n",
    "    print(default_cypher)\n",
    "    driver = GraphDatabase.driver(\n",
    "        uri=\"bolt://localhost:7687\",\n",
    "        auth=(\"neo4j\", os.environ[\"NEO4J_PASSWORD\"]),\n",
    "    )\n",
    "    # create a neo4j session to run queries\n",
    "    session = driver.session()\n",
    "    widget = GraphWidget(graph=session.run(default_cypher).graph())\n",
    "    widget.node_label_mapping = \"id\"\n",
    "    # display(widget)\n",
    "    return widget\n",
    "\n",
    "\n",
    "showGraph()"
   ]
  }
 ],
 "metadata": {
  "kernelspec": {
   "display_name": "llama",
   "language": "python",
   "name": "python3"
  },
  "language_info": {
   "codemirror_mode": {
    "name": "ipython",
    "version": 3
   },
   "file_extension": ".py",
   "mimetype": "text/x-python",
   "name": "python",
   "nbconvert_exporter": "python",
   "pygments_lexer": "ipython3",
   "version": "3.11.5"
  }
 },
 "nbformat": 4,
 "nbformat_minor": 2
}
